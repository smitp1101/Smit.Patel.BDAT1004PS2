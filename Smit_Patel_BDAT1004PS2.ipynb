{
  "nbformat": 4,
  "nbformat_minor": 0,
  "metadata": {
    "colab": {
      "provenance": []
    },
    "kernelspec": {
      "name": "python3",
      "display_name": "Python 3"
    },
    "language_info": {
      "name": "python"
    }
  },
  "cells": [
    {
      "cell_type": "markdown",
      "source": [
        "# Problem Set 2"
      ],
      "metadata": {
        "id": "wtJod3YtiLiD"
      }
    },
    {
      "cell_type": "markdown",
      "source": [
        "# Question 1\n"
      ],
      "metadata": {
        "id": "dXPeIi-5iSOv"
      }
    },
    {
      "cell_type": "code",
      "source": [
        "a = 0\n",
        "\n",
        "def b():\n",
        "  global a\n",
        "  a = c(a)\n",
        "\n",
        "def c(a):\n",
        "  return a + 2"
      ],
      "metadata": {
        "id": "TKDhJZ8diwUC"
      },
      "execution_count": 1,
      "outputs": []
    },
    {
      "cell_type": "code",
      "source": [
        "b()"
      ],
      "metadata": {
        "id": "z7d5HCubjVsa"
      },
      "execution_count": 2,
      "outputs": []
    },
    {
      "cell_type": "code",
      "source": [
        "b()"
      ],
      "metadata": {
        "id": "3y_mS90Tja0d"
      },
      "execution_count": 3,
      "outputs": []
    },
    {
      "cell_type": "code",
      "source": [
        "b()"
      ],
      "metadata": {
        "id": "z47gbiakjZ2T"
      },
      "execution_count": 4,
      "outputs": []
    },
    {
      "cell_type": "code",
      "source": [
        "a"
      ],
      "metadata": {
        "colab": {
          "base_uri": "https://localhost:8080/"
        },
        "id": "fZsTU0exjZrS",
        "outputId": "99e6935f-7252-4731-ef5f-d038ea12bc24"
      },
      "execution_count": 5,
      "outputs": [
        {
          "output_type": "execute_result",
          "data": {
            "text/plain": [
              "6"
            ]
          },
          "metadata": {},
          "execution_count": 5
        }
      ]
    },
    {
      "cell_type": "markdown",
      "source": [
        "The final output of a is 6. Initially, a is set to 0. Each time b() is called, it updates a by calling c(a), which returns a + 2. On the first call, a becomes 2 (0 + 2). On the second call, a becomes 4 (2 + 2). On the third call, a becomes 6 (4 + 2). Therefore, after three calls to b(), the value of a is 6."
      ],
      "metadata": {
        "id": "YpGLGXB_j-Br"
      }
    },
    {
      "cell_type": "markdown",
      "source": [
        "# Question 2\n"
      ],
      "metadata": {
        "id": "3TJPNilGigp2"
      }
    },
    {
      "cell_type": "code",
      "source": [
        "def fileLength(file_name):\n",
        "  try:\n",
        "    file = open(file_name)\n",
        "    contents = file.read()\n",
        "    file.close()\n",
        "    print(len(contents))\n",
        "  except FileNotFoundError:\n",
        "    print(f\"File {file_name} not found.\")"
      ],
      "metadata": {
        "id": "yjAA6jDKj___"
      },
      "execution_count": 7,
      "outputs": []
    },
    {
      "cell_type": "code",
      "source": [
        "fileLength('midterm.py')"
      ],
      "metadata": {
        "colab": {
          "base_uri": "https://localhost:8080/"
        },
        "id": "6w_TLuAekymP",
        "outputId": "ab4a7dea-aaf8-4455-ff68-ad75d235aa99"
      },
      "execution_count": 13,
      "outputs": [
        {
          "output_type": "stream",
          "name": "stdout",
          "text": [
            "33\n"
          ]
        }
      ]
    },
    {
      "cell_type": "code",
      "source": [
        "fileLength('idterm.py')"
      ],
      "metadata": {
        "colab": {
          "base_uri": "https://localhost:8080/"
        },
        "id": "1LD7cCa8k4cS",
        "outputId": "0ba1a1b6-6705-4b4b-931b-9d81252e9b10"
      },
      "execution_count": 14,
      "outputs": [
        {
          "output_type": "stream",
          "name": "stdout",
          "text": [
            "File idterm.py not found.\n"
          ]
        }
      ]
    },
    {
      "cell_type": "markdown",
      "source": [
        "# Question 3\n"
      ],
      "metadata": {
        "id": "ZT0_SevEig4k"
      }
    },
    {
      "cell_type": "code",
      "source": [
        "class Marsupial:\n",
        "  def __init__(self):\n",
        "    self.pouch = []\n",
        "\n",
        "  def put_in_pouch(self, item):\n",
        "    self.pouch.append(item)\n",
        "\n",
        "  def pouch_contents(self):\n",
        "    return self.pouch"
      ],
      "metadata": {
        "id": "n6p5LQvHlW_O"
      },
      "execution_count": 16,
      "outputs": []
    },
    {
      "cell_type": "code",
      "source": [
        "m = Marsupial()\n",
        "m.put_in_pouch('doll')\n",
        "m.put_in_pouch('firetruck')\n",
        "m.put_in_pouch('kitten')\n",
        "m.pouch_contents()"
      ],
      "metadata": {
        "colab": {
          "base_uri": "https://localhost:8080/"
        },
        "id": "_q_iqynalA-f",
        "outputId": "89eed48e-2955-4802-e5c5-3618a96092db"
      },
      "execution_count": 17,
      "outputs": [
        {
          "output_type": "execute_result",
          "data": {
            "text/plain": [
              "['doll', 'firetruck', 'kitten']"
            ]
          },
          "metadata": {},
          "execution_count": 17
        }
      ]
    },
    {
      "cell_type": "code",
      "source": [
        "class Kangaroo(Marsupial):\n",
        "  def __init__(self, x, y):\n",
        "    super().__init__()\n",
        "    self.x = x\n",
        "    self.y = y\n",
        "\n",
        "  def jump(self, dx, dy):\n",
        "    self.x += dx\n",
        "    self.y += dy\n",
        "\n",
        "  def __str__(self):\n",
        "    return f\"I am a Kangaroo located at coordinates ({self.x},{self.y})\""
      ],
      "metadata": {
        "id": "oX-1ngxXlZcO"
      },
      "execution_count": 18,
      "outputs": []
    },
    {
      "cell_type": "code",
      "source": [
        "k = Kangaroo(0, 0)\n",
        "print(k)"
      ],
      "metadata": {
        "colab": {
          "base_uri": "https://localhost:8080/"
        },
        "id": "xTx46CYtl1Lc",
        "outputId": "7803511d-ef7f-4c11-88bd-e3ec5c96d14d"
      },
      "execution_count": 19,
      "outputs": [
        {
          "output_type": "stream",
          "name": "stdout",
          "text": [
            "I am a Kangaroo located at coordinates (0,0)\n"
          ]
        }
      ]
    },
    {
      "cell_type": "code",
      "source": [
        "k.put_in_pouch('doll')\n",
        "k.put_in_pouch('firetruck')\n",
        "k.put_in_pouch('kitten')\n",
        "k.pouch_contents()"
      ],
      "metadata": {
        "colab": {
          "base_uri": "https://localhost:8080/"
        },
        "id": "2n9pnkudl778",
        "outputId": "ae30057d-6fec-42f1-f749-6f0d905e47ed"
      },
      "execution_count": 20,
      "outputs": [
        {
          "output_type": "execute_result",
          "data": {
            "text/plain": [
              "['doll', 'firetruck', 'kitten']"
            ]
          },
          "metadata": {},
          "execution_count": 20
        }
      ]
    },
    {
      "cell_type": "code",
      "source": [
        "k.jump(1,0)\n",
        "k.jump(1,0)\n",
        "k.jump(1,0)\n",
        "print(k)"
      ],
      "metadata": {
        "colab": {
          "base_uri": "https://localhost:8080/"
        },
        "id": "SpPiSnpmmDON",
        "outputId": "5de418e0-06ca-4ed4-8822-d787dc34d384"
      },
      "execution_count": 21,
      "outputs": [
        {
          "output_type": "stream",
          "name": "stdout",
          "text": [
            "I am a Kangaroo located at coordinates (3,0)\n"
          ]
        }
      ]
    },
    {
      "cell_type": "markdown",
      "source": [
        "# Question 4\n"
      ],
      "metadata": {
        "id": "x-PfJ-rfig_1"
      }
    },
    {
      "cell_type": "code",
      "source": [
        "def collatz(x):\n",
        "  print(x)\n",
        "\n",
        "  if x == 1:\n",
        "    return\n",
        "  elif x % 2 == 0:\n",
        "    collatz(x // 2)\n",
        "  else:\n",
        "    collatz(3 * x + 1)"
      ],
      "metadata": {
        "id": "q-fN5o3umGv6"
      },
      "execution_count": 22,
      "outputs": []
    },
    {
      "cell_type": "code",
      "source": [
        "collatz(1)"
      ],
      "metadata": {
        "colab": {
          "base_uri": "https://localhost:8080/"
        },
        "id": "Idxp0sAVmLHi",
        "outputId": "014c3f22-2954-4df2-f29d-5734213192e4"
      },
      "execution_count": 23,
      "outputs": [
        {
          "output_type": "stream",
          "name": "stdout",
          "text": [
            "1\n"
          ]
        }
      ]
    },
    {
      "cell_type": "code",
      "source": [
        "collatz(10)"
      ],
      "metadata": {
        "colab": {
          "base_uri": "https://localhost:8080/"
        },
        "id": "xFUfyFhamPgK",
        "outputId": "9baa3973-5590-43bd-fa30-3ba1d5e8b1b2"
      },
      "execution_count": 24,
      "outputs": [
        {
          "output_type": "stream",
          "name": "stdout",
          "text": [
            "10\n",
            "5\n",
            "16\n",
            "8\n",
            "4\n",
            "2\n",
            "1\n"
          ]
        }
      ]
    },
    {
      "cell_type": "markdown",
      "source": [
        "# Question 5\n"
      ],
      "metadata": {
        "id": "hDmgEQHfihlz"
      }
    },
    {
      "cell_type": "code",
      "source": [
        "def binary(n):\n",
        "  if n == 0:\n",
        "    print(0, end='')\n",
        "\n",
        "  elif n == 1:\n",
        "    print(1, end='')\n",
        "\n",
        "  else:\n",
        "    binary(n // 2)\n",
        "    print(n % 2, end='')"
      ],
      "metadata": {
        "id": "x_KDpmS8mRND"
      },
      "execution_count": 25,
      "outputs": []
    },
    {
      "cell_type": "code",
      "source": [
        "binary(0)"
      ],
      "metadata": {
        "colab": {
          "base_uri": "https://localhost:8080/"
        },
        "id": "rffza3DrmawD",
        "outputId": "81f3dcc8-d90e-40eb-b1af-eaddc3f3d1cd"
      },
      "execution_count": 26,
      "outputs": [
        {
          "output_type": "stream",
          "name": "stdout",
          "text": [
            "0"
          ]
        }
      ]
    },
    {
      "cell_type": "code",
      "source": [
        "binary(1)"
      ],
      "metadata": {
        "colab": {
          "base_uri": "https://localhost:8080/"
        },
        "id": "ddBeb4lOmd1b",
        "outputId": "5d512a8b-6c0c-40dc-f32c-1dee5dfcfd33"
      },
      "execution_count": 27,
      "outputs": [
        {
          "output_type": "stream",
          "name": "stdout",
          "text": [
            "1"
          ]
        }
      ]
    },
    {
      "cell_type": "code",
      "source": [
        "binary(3)"
      ],
      "metadata": {
        "colab": {
          "base_uri": "https://localhost:8080/"
        },
        "id": "jGa40Fsvmdav",
        "outputId": "09e80b12-f5fb-4ed0-dee4-2a44bb89fb0d"
      },
      "execution_count": 28,
      "outputs": [
        {
          "output_type": "stream",
          "name": "stdout",
          "text": [
            "11"
          ]
        }
      ]
    },
    {
      "cell_type": "code",
      "source": [
        "binary(9)"
      ],
      "metadata": {
        "colab": {
          "base_uri": "https://localhost:8080/"
        },
        "id": "0AjNRj2xmdEW",
        "outputId": "e3a612a0-3909-4677-ac13-8921d3704417"
      },
      "execution_count": 29,
      "outputs": [
        {
          "output_type": "stream",
          "name": "stdout",
          "text": [
            "1001"
          ]
        }
      ]
    },
    {
      "cell_type": "markdown",
      "source": [
        "# Question 6\n"
      ],
      "metadata": {
        "id": "FWk77FMyihpm"
      }
    },
    {
      "cell_type": "code",
      "source": [
        "from html.parser import HTMLParser\n",
        "\n",
        "class HeadingParser(HTMLParser):\n",
        "  def __init__(self):\n",
        "    super().__init__()\n",
        "    self.level_indent = 0\n",
        "    self.is_heading = False\n",
        "\n",
        "  def handle_starttag(self, tag, attrs):\n",
        "    if tag.startswith('h') and len(tag) == 2 and tag[1].isdigit():\n",
        "      self.level_indent = int(tag[1]) - 1\n",
        "      self.is_heading = True\n",
        "\n",
        "  def handle_endtag(self, tag):\n",
        "    if tag.startswith('h') and len(tag) == 2 and tag[1].isdigit():\n",
        "      self.level_indent = 0\n",
        "      self.is_heading = False\n",
        "\n",
        "  def handle_data(self, data):\n",
        "    if self.is_heading:\n",
        "      print(' ' * self.level_indent + data.strip())"
      ],
      "metadata": {
        "id": "bpI865nfmkPL"
      },
      "execution_count": 52,
      "outputs": []
    },
    {
      "cell_type": "code",
      "source": [
        "infile = open('w3c.html')\n",
        "content = infile.read()\n",
        "infile.close()\n",
        "hp = HeadingParser()\n",
        "hp.feed(content)"
      ],
      "metadata": {
        "colab": {
          "base_uri": "https://localhost:8080/"
        },
        "id": "a670wPbHmsIS",
        "outputId": "a733e218-ea49-418b-e77d-7190cdd87b89"
      },
      "execution_count": 53,
      "outputs": [
        {
          "output_type": "stream",
          "name": "stdout",
          "text": [
            "W3C Mission\n",
            " Principles\n"
          ]
        }
      ]
    },
    {
      "cell_type": "markdown",
      "source": [
        "# Question 7\n"
      ],
      "metadata": {
        "id": "57WwsQZDihw3"
      }
    },
    {
      "cell_type": "code",
      "source": [
        "from urllib.request import urlopen\n",
        "from bs4 import BeautifulSoup\n",
        "\n",
        "def webdir(url, depth, indent):\n",
        "  if depth < 0:\n",
        "    return\n",
        "\n",
        "  try:\n",
        "    response = urlopen(url)\n",
        "    soup = BeautifulSoup(response, 'html.parser')\n",
        "    print(' ' * indent + url)\n",
        "\n",
        "    if depth == 0:\n",
        "      return\n",
        "\n",
        "    links = soup.find_all('a')\n",
        "    for link in links:\n",
        "      href = link.get('href')\n",
        "      if href.startswith('http'):\n",
        "        webdir(href, depth - 1, indent + 2)\n",
        "\n",
        "  except Exception as e:\n",
        "    print('Error:', e)"
      ],
      "metadata": {
        "id": "n6RmxvqwmvIt"
      },
      "execution_count": 32,
      "outputs": []
    },
    {
      "cell_type": "code",
      "source": [
        "webdir('https://reed.cs.depaul.edu/lperkovic/csc242/syllabus.html', 2, 0)"
      ],
      "metadata": {
        "colab": {
          "base_uri": "https://localhost:8080/"
        },
        "id": "o3KB0kp6m3EV",
        "outputId": "5e48e98a-d10c-4a73-ab24-f22beba960e9"
      },
      "execution_count": 33,
      "outputs": [
        {
          "output_type": "stream",
          "name": "stdout",
          "text": [
            "https://reed.cs.depaul.edu/lperkovic/csc242/syllabus.html\n",
            "  https://reed.cs.depaul.edu/lperkovic/\n",
            "Error: HTTP Error 418: \n",
            "Error: HTTP Error 418: \n",
            "    https://reed.cs.depaul.edu/lperkovic/courses/csc241/\n",
            "    https://reed.cs.depaul.edu/lperkovic/courses/csc242/\n",
            "  https://depaul.zoom.us/j/894936490\n",
            "  https://depaul.zoom.us/j/894936490\n",
            "  https://d2l.depaul.edu/\n",
            "  https://d2l.depaul.edu/\n",
            "  https://www.vitalsource.com/custom/9781119185390\n",
            "    https://sampling.vitalsource.com/educators\n",
            "    https://get.vitalsource.com/\n",
            "    https://get.vitalsource.com/press\n",
            "    https://get.vitalsource.com/about-us/careers\n",
            "    https://get.vitalsource.com/resources/events\n",
            "    https://get.vitalsource.com/blog\n",
            "Error: HTTP Error 403: Forbidden\n",
            "    https://bulk-store.vitalsource.com/\n",
            "    https://sampling.vitalsource.com/educators\n",
            "Error: HTTP Error 403: Forbidden\n",
            "Error: HTTP Error 403: Forbidden\n",
            "Error: HTTP Error 403: Forbidden\n",
            "    https://www.youtube.com/channel/UCnLjhbaT56U_mmmc4m0yBrA\n",
            "Error: HTTP Error 429: Too Many Requests\n",
            "    https://www.facebook.com/vitalsourcebookshelf/\n",
            "    https://twitter.com/vitalsource\n",
            "Error: HTTP Error 999: Request denied\n",
            "    https://get.vitalsource.com/\n",
            "  https://reed.cs.depaul.edu/lperkovic/courses/csc242\n",
            "  https://academics.depaul.edu/calendar/Pages/default.aspx\n",
            "    https://academics.depaul.edu/calendar/Pages/default.aspx\n",
            "    https://catalog.depaul.edu/\n",
            "    https://resources.depaul.edu/student-success/Pages/default.aspx\n",
            "    https://campusconnect.depaul.edu/\n",
            "    https://d2l.depaul.edu/\n",
            "    https://library.depaul.edu/Pages/default.aspx\n",
            "    https://offices.depaul.edu/depaul-central/Pages/default.aspx\n",
            "    https://offices.depaul.edu/public-safety/Pages/default.aspx\n",
            "    https://depaul.bncollege.com/\n",
            "    https://www.depaul.edu/campus-maps/Pages/default.aspx\n",
            "    https://events.depaul.edu/\n",
            "Error: HTTP Error 302: The HTTP server returned a redirect error that would lead to an infinite loop.\n",
            "The last 30x error message was:\n",
            "Moved Temporarily\n",
            "Error: HTTP Error 308: Permanent Redirect\n",
            "    https://www.depaul.edu/Pages/employment-at-depaul.aspx\n",
            "    https://www.depaul.edu/utilities/Pages/a-z-websites.aspx\n",
            "    https://depaul.service-now.com/sp\n",
            "Error: HTTP Error 403: Forbidden\n",
            "    https://www.depaul.edu/Pages/students.aspx\n",
            "    https://www.depaul.edu/Pages/faculty.aspx\n",
            "    http://www.depaul.edu/\n",
            "    https://www.depaul.edu/Pages/default.aspx\n",
            "Error: 'NoneType' object has no attribute 'startswith'\n",
            "  https://campusconnect.depaul.edu/\n",
            "  http://academicintegrity.depaul.edu/\n",
            "    https://academics.depaul.edu/calendar/Pages/default.aspx\n",
            "    https://catalog.depaul.edu/\n",
            "    https://resources.depaul.edu/student-success/Pages/default.aspx\n",
            "    https://campusconnect.depaul.edu/\n",
            "    https://d2l.depaul.edu/\n",
            "    https://library.depaul.edu/Pages/default.aspx\n",
            "    https://offices.depaul.edu/depaul-central/Pages/default.aspx\n",
            "    https://offices.depaul.edu/public-safety/Pages/default.aspx\n",
            "    https://depaul.bncollege.com/\n",
            "    https://www.depaul.edu/campus-maps/Pages/default.aspx\n",
            "    https://events.depaul.edu/\n",
            "Error: HTTP Error 302: The HTTP server returned a redirect error that would lead to an infinite loop.\n",
            "The last 30x error message was:\n",
            "Moved Temporarily\n",
            "Error: HTTP Error 308: Permanent Redirect\n",
            "    https://www.depaul.edu/Pages/employment-at-depaul.aspx\n",
            "    https://www.depaul.edu/utilities/Pages/a-z-websites.aspx\n",
            "    https://depaul.service-now.com/sp\n",
            "Error: HTTP Error 403: Forbidden\n",
            "    https://www.depaul.edu/Pages/students.aspx\n",
            "    https://www.depaul.edu/Pages/faculty.aspx\n",
            "    https://www.depaul.edu/\n",
            "Error: 'NoneType' object has no attribute 'startswith'\n",
            "  https://academics.depaul.edu/calendar/Pages/default.aspx\n",
            "    https://academics.depaul.edu/calendar/Pages/default.aspx\n",
            "    https://catalog.depaul.edu/\n",
            "    https://resources.depaul.edu/student-success/Pages/default.aspx\n",
            "    https://campusconnect.depaul.edu/\n",
            "    https://d2l.depaul.edu/\n",
            "    https://library.depaul.edu/Pages/default.aspx\n",
            "    https://offices.depaul.edu/depaul-central/Pages/default.aspx\n",
            "    https://offices.depaul.edu/public-safety/Pages/default.aspx\n",
            "    https://depaul.bncollege.com/\n",
            "    https://www.depaul.edu/campus-maps/Pages/default.aspx\n",
            "    https://events.depaul.edu/\n",
            "Error: HTTP Error 302: The HTTP server returned a redirect error that would lead to an infinite loop.\n",
            "The last 30x error message was:\n",
            "Moved Temporarily\n",
            "Error: HTTP Error 308: Permanent Redirect\n",
            "    https://www.depaul.edu/Pages/employment-at-depaul.aspx\n",
            "    https://www.depaul.edu/utilities/Pages/a-z-websites.aspx\n",
            "    https://depaul.service-now.com/sp\n",
            "Error: HTTP Error 403: Forbidden\n",
            "    https://www.depaul.edu/Pages/students.aspx\n",
            "    https://www.depaul.edu/Pages/faculty.aspx\n",
            "    http://www.depaul.edu/\n",
            "    https://www.depaul.edu/Pages/default.aspx\n",
            "Error: 'NoneType' object has no attribute 'startswith'\n",
            "Error: HTTP Error 418: \n"
          ]
        }
      ]
    },
    {
      "cell_type": "markdown",
      "source": [
        "# Question 8\n"
      ],
      "metadata": {
        "id": "IW7o2SDhiicB"
      }
    },
    {
      "cell_type": "code",
      "source": [
        "import sqlite3\n",
        "\n",
        "conn = sqlite3.connect('weather.db')\n",
        "\n",
        "cur = conn.cursor()\n",
        "\n",
        "cur.execute(\"CREATE TABLE WeatherData (City TEXT, Country TEXT, Season TEXT, Temperature REAL, Rainfall REAL)\")\n",
        "\n",
        "conn.commit()"
      ],
      "metadata": {
        "id": "9m6o7vIrm8Qq"
      },
      "execution_count": 34,
      "outputs": []
    },
    {
      "cell_type": "code",
      "source": [
        "cur.execute(\"INSERT INTO WeatherData VALUES ('Mumbai', 'India', 'Winter', '24.8', '5.9')\")\n",
        "cur.execute(\"INSERT INTO WeatherData VALUES ('Mumbai', 'India', 'Spring', '28.4', '16.2')\")\n",
        "cur.execute(\"INSERT INTO WeatherData VALUES ('Mumbai', 'India', 'Summer', '27.9', '1549.4')\")\n",
        "cur.execute(\"INSERT INTO WeatherData VALUES ('Mumbai', 'India', 'Fall', '27.6', '346.0')\")\n",
        "cur.execute(\"INSERT INTO WeatherData VALUES ('London', 'United Kingdom', 'Winter', '4.2', '207.7')\")\n",
        "cur.execute(\"INSERT INTO WeatherData VALUES ('London', 'United Kingdom', 'Spring', '8.3', '169.6')\")\n",
        "cur.execute(\"INSERT INTO WeatherData VALUES ('London', 'United Kingdom', 'Summer', '15.7', '157.0')\")\n",
        "cur.execute(\"INSERT INTO WeatherData VALUES ('London', 'United Kingdom', 'Fall', '10.4', '218.5')\")\n",
        "cur.execute(\"INSERT INTO WeatherData VALUES ('Cairo', 'Egypt', 'Winter', '13.6', '16.5')\")\n",
        "cur.execute(\"INSERT INTO WeatherData VALUES ('Cairo', 'Egypt', 'Spring', '20.7', '6.5')\")\n",
        "cur.execute(\"INSERT INTO WeatherData VALUES ('Cairo', 'Egypt', 'Summer', '27.7', '0.1')\")\n",
        "cur.execute(\"INSERT INTO WeatherData VALUES ('Cairo', 'Egypt', 'Fall', '22.2', '4.5')\")\n",
        "\n",
        "conn.commit()"
      ],
      "metadata": {
        "id": "qxl9QoZym9BI"
      },
      "execution_count": 35,
      "outputs": []
    },
    {
      "cell_type": "code",
      "source": [
        "cur.execute(\"SELECT * FROM WeatherData\")\n",
        "\n",
        "for record in cur:\n",
        "  print(record)"
      ],
      "metadata": {
        "colab": {
          "base_uri": "https://localhost:8080/"
        },
        "id": "jwxSLQAwnCK9",
        "outputId": "91711a06-0ee1-419d-d6eb-5d70508dbe63"
      },
      "execution_count": 36,
      "outputs": [
        {
          "output_type": "stream",
          "name": "stdout",
          "text": [
            "('Mumbai', 'India', 'Winter', 24.8, 5.9)\n",
            "('Mumbai', 'India', 'Spring', 28.4, 16.2)\n",
            "('Mumbai', 'India', 'Summer', 27.9, 1549.4)\n",
            "('Mumbai', 'India', 'Fall', 27.6, 346.0)\n",
            "('London', 'United Kingdom', 'Winter', 4.2, 207.7)\n",
            "('London', 'United Kingdom', 'Spring', 8.3, 169.6)\n",
            "('London', 'United Kingdom', 'Summer', 15.7, 157.0)\n",
            "('London', 'United Kingdom', 'Fall', 10.4, 218.5)\n",
            "('Cairo', 'Egypt', 'Winter', 13.6, 16.5)\n",
            "('Cairo', 'Egypt', 'Spring', 20.7, 6.5)\n",
            "('Cairo', 'Egypt', 'Summer', 27.7, 0.1)\n",
            "('Cairo', 'Egypt', 'Fall', 22.2, 4.5)\n"
          ]
        }
      ]
    },
    {
      "cell_type": "code",
      "source": [
        "cur.execute(\"SELECT Temperature FROM WeatherData\")\n",
        "\n",
        "for record in cur:\n",
        "  print(record[0])"
      ],
      "metadata": {
        "colab": {
          "base_uri": "https://localhost:8080/"
        },
        "id": "04ZLRyVdnKgx",
        "outputId": "39213433-2173-4a8a-b6c9-6e823767b4b4"
      },
      "execution_count": 37,
      "outputs": [
        {
          "output_type": "stream",
          "name": "stdout",
          "text": [
            "24.8\n",
            "28.4\n",
            "27.9\n",
            "27.6\n",
            "4.2\n",
            "8.3\n",
            "15.7\n",
            "10.4\n",
            "13.6\n",
            "20.7\n",
            "27.7\n",
            "22.2\n"
          ]
        }
      ]
    },
    {
      "cell_type": "code",
      "source": [
        "cur.execute(\"SELECT DISTINCT City FROM WeatherData\")\n",
        "\n",
        "for record in cur:\n",
        "  print(record[0])"
      ],
      "metadata": {
        "colab": {
          "base_uri": "https://localhost:8080/"
        },
        "id": "xDoCepyXnNdf",
        "outputId": "98937955-d234-45a4-b060-43f3bc32f02a"
      },
      "execution_count": 38,
      "outputs": [
        {
          "output_type": "stream",
          "name": "stdout",
          "text": [
            "Mumbai\n",
            "London\n",
            "Cairo\n"
          ]
        }
      ]
    },
    {
      "cell_type": "code",
      "source": [
        "cur.execute(\"SELECT * FROM WeatherData WHERE Country = 'India'\")\n",
        "\n",
        "for record in cur:\n",
        "  print(record)"
      ],
      "metadata": {
        "colab": {
          "base_uri": "https://localhost:8080/"
        },
        "id": "D6QpZEIbnOA8",
        "outputId": "3c71a612-eada-4c4a-c6ef-7af616784ef4"
      },
      "execution_count": 39,
      "outputs": [
        {
          "output_type": "stream",
          "name": "stdout",
          "text": [
            "('Mumbai', 'India', 'Winter', 24.8, 5.9)\n",
            "('Mumbai', 'India', 'Spring', 28.4, 16.2)\n",
            "('Mumbai', 'India', 'Summer', 27.9, 1549.4)\n",
            "('Mumbai', 'India', 'Fall', 27.6, 346.0)\n"
          ]
        }
      ]
    },
    {
      "cell_type": "code",
      "source": [
        "cur.execute(\"SELECT * FROM WeatherData WHERE Season = 'Fall'\")\n",
        "\n",
        "for record in cur:\n",
        "  print(record)"
      ],
      "metadata": {
        "colab": {
          "base_uri": "https://localhost:8080/"
        },
        "id": "6hdUXUf9nPuj",
        "outputId": "43d923bb-ffca-4622-da49-8ac589e9d7d5"
      },
      "execution_count": 40,
      "outputs": [
        {
          "output_type": "stream",
          "name": "stdout",
          "text": [
            "('Mumbai', 'India', 'Fall', 27.6, 346.0)\n",
            "('London', 'United Kingdom', 'Fall', 10.4, 218.5)\n",
            "('Cairo', 'Egypt', 'Fall', 22.2, 4.5)\n"
          ]
        }
      ]
    },
    {
      "cell_type": "code",
      "source": [
        "cur.execute(\"SELECT City, Country, Season FROM WeatherData GROUP BY City, Country, Season HAVING AVG(Rainfall) BETWEEN 200 AND 400\")\n",
        "\n",
        "for record in cur:\n",
        "  print(record)"
      ],
      "metadata": {
        "colab": {
          "base_uri": "https://localhost:8080/"
        },
        "id": "Estc5mmSnRkb",
        "outputId": "ad202a09-e1ac-4b49-e61b-27291da20eda"
      },
      "execution_count": 41,
      "outputs": [
        {
          "output_type": "stream",
          "name": "stdout",
          "text": [
            "('London', 'United Kingdom', 'Fall')\n",
            "('London', 'United Kingdom', 'Winter')\n",
            "('Mumbai', 'India', 'Fall')\n"
          ]
        }
      ]
    },
    {
      "cell_type": "code",
      "source": [
        "cur.execute(\"SELECT City, Country FROM WeatherData WHERE Season = 'Fall' GROUP BY City, Country HAVING AVG(Temperature) > 20 ORDER BY AVG(Temperature) ASC\")\n",
        "\n",
        "for record in cur:\n",
        "  print(record)"
      ],
      "metadata": {
        "colab": {
          "base_uri": "https://localhost:8080/"
        },
        "id": "lR-pKSmgnT6W",
        "outputId": "af2219f3-75f1-4e25-b240-a5d24031731d"
      },
      "execution_count": 42,
      "outputs": [
        {
          "output_type": "stream",
          "name": "stdout",
          "text": [
            "('Cairo', 'Egypt')\n",
            "('Mumbai', 'India')\n"
          ]
        }
      ]
    },
    {
      "cell_type": "code",
      "source": [
        "cur.execute(\"SELECT SUM(Rainfall) AS TotalRainfall FROM WeatherData WHERE City = 'Cairo'\")\n",
        "\n",
        "for record in cur:\n",
        "  print(record[0])"
      ],
      "metadata": {
        "colab": {
          "base_uri": "https://localhost:8080/"
        },
        "id": "7OtEPMxknWMt",
        "outputId": "de57b748-7c0f-4bcf-e6e5-50cb2be0ae80"
      },
      "execution_count": 43,
      "outputs": [
        {
          "output_type": "stream",
          "name": "stdout",
          "text": [
            "27.6\n"
          ]
        }
      ]
    },
    {
      "cell_type": "code",
      "source": [
        "cur.execute(\"SELECT Season, ROUND(SUM(Rainfall), 1) AS TotalRainfall FROM WeatherData GROUP BY Season\")\n",
        "\n",
        "for record in cur:\n",
        "  print(record)"
      ],
      "metadata": {
        "colab": {
          "base_uri": "https://localhost:8080/"
        },
        "id": "v3DFxhT1nYHE",
        "outputId": "7dbcbdbf-55ea-465d-e2d5-8d580d30db32"
      },
      "execution_count": 44,
      "outputs": [
        {
          "output_type": "stream",
          "name": "stdout",
          "text": [
            "('Fall', 569.0)\n",
            "('Spring', 192.3)\n",
            "('Summer', 1706.5)\n",
            "('Winter', 230.1)\n"
          ]
        }
      ]
    },
    {
      "cell_type": "code",
      "source": [
        "cur.close()\n",
        "conn.close()"
      ],
      "metadata": {
        "id": "_6_gGKEtnaDy"
      },
      "execution_count": 45,
      "outputs": []
    },
    {
      "cell_type": "markdown",
      "source": [
        "# Question 9\n"
      ],
      "metadata": {
        "id": "j_ReM2a9igaS"
      }
    },
    {
      "cell_type": "code",
      "execution_count": 46,
      "metadata": {
        "colab": {
          "base_uri": "https://localhost:8080/"
        },
        "id": "r4LBoszaiEvN",
        "outputId": "14e94440-f26d-4452-d0f7-79d50ede9dc4"
      },
      "outputs": [
        {
          "output_type": "execute_result",
          "data": {
            "text/plain": [
              "['The', 'quick', 'brown', 'fox', 'jumps', 'over', 'the', 'lazy', 'dog']"
            ]
          },
          "metadata": {},
          "execution_count": 46
        }
      ],
      "source": [
        "words = ['The', 'quick', 'brown', 'fox', 'jumps', 'over', 'the', 'lazy', 'dog']\n",
        "words"
      ]
    },
    {
      "cell_type": "code",
      "source": [
        "upper_words = [word.upper() for word in words]\n",
        "upper_words"
      ],
      "metadata": {
        "colab": {
          "base_uri": "https://localhost:8080/"
        },
        "id": "X_PyD5Y3ni6t",
        "outputId": "46e2c422-dcf3-4a69-9a4f-43a59eb3a491"
      },
      "execution_count": 47,
      "outputs": [
        {
          "output_type": "execute_result",
          "data": {
            "text/plain": [
              "['THE', 'QUICK', 'BROWN', 'FOX', 'JUMPS', 'OVER', 'THE', 'LAZY', 'DOG']"
            ]
          },
          "metadata": {},
          "execution_count": 47
        }
      ]
    },
    {
      "cell_type": "code",
      "source": [
        "lower_words = [word.lower() for word in words]\n",
        "lower_words"
      ],
      "metadata": {
        "colab": {
          "base_uri": "https://localhost:8080/"
        },
        "id": "XM-_6H75nyn8",
        "outputId": "19c2bdf7-8169-4fab-a50d-0984a4d3a04c"
      },
      "execution_count": 48,
      "outputs": [
        {
          "output_type": "execute_result",
          "data": {
            "text/plain": [
              "['the', 'quick', 'brown', 'fox', 'jumps', 'over', 'the', 'lazy', 'dog']"
            ]
          },
          "metadata": {},
          "execution_count": 48
        }
      ]
    },
    {
      "cell_type": "code",
      "source": [
        "word_lengths = [len(word) for word in words]\n",
        "word_lengths"
      ],
      "metadata": {
        "colab": {
          "base_uri": "https://localhost:8080/"
        },
        "id": "S4_yC1Z7n0j2",
        "outputId": "440130aa-2356-451e-cbf2-8e57bb47ec41"
      },
      "execution_count": 49,
      "outputs": [
        {
          "output_type": "execute_result",
          "data": {
            "text/plain": [
              "[3, 5, 5, 3, 5, 4, 3, 4, 3]"
            ]
          },
          "metadata": {},
          "execution_count": 49
        }
      ]
    },
    {
      "cell_type": "code",
      "source": [
        "word_info = [[word.upper(), word.lower(), len(word)] for word in words]\n",
        "word_info"
      ],
      "metadata": {
        "colab": {
          "base_uri": "https://localhost:8080/"
        },
        "id": "UnjXGj2Kn2SF",
        "outputId": "156e5aa0-2c5a-4238-8758-8c31ef91f86a"
      },
      "execution_count": 50,
      "outputs": [
        {
          "output_type": "execute_result",
          "data": {
            "text/plain": [
              "[['THE', 'the', 3],\n",
              " ['QUICK', 'quick', 5],\n",
              " ['BROWN', 'brown', 5],\n",
              " ['FOX', 'fox', 3],\n",
              " ['JUMPS', 'jumps', 5],\n",
              " ['OVER', 'over', 4],\n",
              " ['THE', 'the', 3],\n",
              " ['LAZY', 'lazy', 4],\n",
              " ['DOG', 'dog', 3]]"
            ]
          },
          "metadata": {},
          "execution_count": 50
        }
      ]
    },
    {
      "cell_type": "code",
      "source": [
        "long_words = [word for word in words if len(word) >= 4]\n",
        "long_words"
      ],
      "metadata": {
        "colab": {
          "base_uri": "https://localhost:8080/"
        },
        "id": "G5AHt5OWn4VD",
        "outputId": "8a8ea2e3-9917-415d-ac09-f0b540f8fe69"
      },
      "execution_count": 51,
      "outputs": [
        {
          "output_type": "execute_result",
          "data": {
            "text/plain": [
              "['quick', 'brown', 'jumps', 'over', 'lazy']"
            ]
          },
          "metadata": {},
          "execution_count": 51
        }
      ]
    }
  ]
}